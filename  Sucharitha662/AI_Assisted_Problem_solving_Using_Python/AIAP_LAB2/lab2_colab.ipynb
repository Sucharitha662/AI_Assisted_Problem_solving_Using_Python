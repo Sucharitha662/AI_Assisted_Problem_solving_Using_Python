{
  "nbformat": 4,
  "nbformat_minor": 0,
  "metadata": {
    "colab": {
      "provenance": [],
      "mount_file_id": "1dGdGHMaztoLmcIAG9fsYCO9A0lOccU2U",
      "authorship_tag": "ABX9TyO0LM2D+XfLPAE5tsb8VyHE",
      "include_colab_link": true
    },
    "kernelspec": {
      "name": "python3",
      "display_name": "Python 3"
    },
    "language_info": {
      "name": "python"
    }
  },
  "cells": [
    {
      "cell_type": "markdown",
      "metadata": {
        "id": "view-in-github",
        "colab_type": "text"
      },
      "source": [
        "<a href=\"https://colab.research.google.com/github/Sucharitha662/AI_Assisted_Problem_solving_Using_Python/blob/main/%20Sucharitha662/AI_Assisted_Problem_solving_Using_Python/AIAP_LAB2/lab2_colab.ipynb\" target=\"_parent\"><img src=\"https://colab.research.google.com/assets/colab-badge.svg\" alt=\"Open In Colab\"/></a>"
      ]
    },
    {
      "cell_type": "code",
      "metadata": {
        "colab": {
          "base_uri": "https://localhost:8080/"
        },
        "id": "d908543d",
        "outputId": "6e973307-0c29-487e-dbc1-3420f051a19d"
      },
      "source": [
        "#Task2\n",
        "# Function to check if a string is a palindrome\n",
        "def is_palindrome(text):\n",
        "  \"\"\"Checks if a string is a palindrome (reads the same forwards and backwards, ignoring case and spaces).\n",
        "\n",
        "  Args:\n",
        "    text: The input string.\n",
        "\n",
        "  Returns:\n",
        "    True if the string is a palindrome, False otherwise.\n",
        "  \"\"\"\n",
        "  # Convert to lowercase and remove spaces\n",
        "  cleaned_text = \"\".join(char.lower() for char in text if char.isalnum())\n",
        "  return cleaned_text == cleaned_text[::-1]\n",
        "\n",
        "# Example usage:\n",
        "print(is_palindrome(\"Racecar\"))\n",
        "print(is_palindrome(\"Madam, I'm Adam\"))\n",
        "print(is_palindrome(\"Hello world\"))"
      ],
      "execution_count": 2,
      "outputs": [
        {
          "output_type": "stream",
          "name": "stdout",
          "text": [
            "True\n",
            "True\n",
            "False\n"
          ]
        }
      ]
    },
    {
      "cell_type": "code",
      "metadata": {
        "colab": {
          "base_uri": "https://localhost:8080/"
        },
        "id": "60a9b683",
        "outputId": "470e02b0-9d4f-4c91-ba36-c93f7cd7ffc7"
      },
      "source": [
        "#Task3\n",
        "import math # Imports the math module to use mathematical functions like pi.\n",
        "\n",
        "def calculate_area(shape, **kwargs): # Defines a function named calculate_area that takes 'shape' as a string and a variable number of keyword arguments (**kwargs) for dimensions.\n",
        "  \"\"\"Calculates the area of various shapes. # Docstring: explains what the function does.\n",
        "\n",
        "  Args: # Docstring section: describes the arguments the function takes.\n",
        "    shape: The name of the shape (e.g., \"circle\", \"rectangle\", \"triangle\"). # Describes the 'shape' argument.\n",
        "    **kwargs: Keyword arguments for the shape's dimensions. # Describes the **kwargs argument.\n",
        "\n",
        "  Returns: # Docstring section: describes what the function returns.\n",
        "    The area of the shape, or None if the shape is not supported or # Describes the return value.\n",
        "    dimensions are missing.\n",
        "  \"\"\"\n",
        "  if shape == \"circle\": # Checks if the shape is \"circle\".\n",
        "    radius = kwargs.get(\"radius\") # Gets the value for the 'radius' keyword argument. Returns None if 'radius' is not provided.\n",
        "    if radius is not None: # Checks if 'radius' was provided (is not None).\n",
        "      return math.pi * radius**2 # Calculates and returns the area of a circle (pi * radius squared).\n",
        "    else: # If 'radius' was not provided.\n",
        "      print(\"Error: Radius is required for a circle.\") # Prints an error message.\n",
        "      return None # Returns None indicating an error.\n",
        "  elif shape == \"rectangle\": # Checks if the shape is \"rectangle\".\n",
        "    length = kwargs.get(\"length\") # Gets the value for the 'length' keyword argument.\n",
        "    width = kwargs.get(\"width\") # Gets the value for the 'width' keyword argument.\n",
        "    if length is not None and width is not None: # Checks if both 'length' and 'width' were provided.\n",
        "      return length * width # Calculates and returns the area of a rectangle (length * width).\n",
        "    else: # If 'length' or 'width' was not provided.\n",
        "      print(\"Error: Length and width are required for a rectangle.\") # Prints an error message.\n",
        "      return None # Returns None indicating an error.\n",
        "  elif shape == \"triangle\": # Checks if the shape is \"triangle\".\n",
        "    base = kwargs.get(\"base\") # Gets the value for the 'base' keyword argument.\n",
        "    height = kwargs.get(\"height\") # Gets the value for the 'height' keyword argument.\n",
        "    if base is not None and height is not None: # Checks if both 'base' and 'height' were provided.\n",
        "      return 0.5 * base * height # Calculates and returns the area of a triangle (0.5 * base * height).\n",
        "    else: # If 'base' or 'height' was not provided.\n",
        "      print(\"Error: Base and height are required for a triangle.\") # Prints an error message.\n",
        "      return None # Returns None indicating an error.\n",
        "  else: # If the shape is not \"circle\", \"rectangle\", or \"triangle\".\n",
        "    print(f\"Error: Shape '{shape}' is not supported.\") # Prints an error message indicating the shape is not supported.\n",
        "    return None # Returns None indicating an error.\n",
        "\n",
        "# Example Usage: # Comment indicating the start of example usage.\n",
        "print(f\"Area of circle with radius 5: {calculate_area('circle', radius=5)}\") # Calls the function for a circle with radius 5 and prints the result.\n",
        "print(f\"Area of rectangle with length 4 and width 6: {calculate_area('rectangle', length=4, width=6)}\") # Calls the function for a rectangle and prints the result.\n",
        "print(f\"Area of triangle with base 3 and height 7: {calculate_area('triangle', base=3, height=7)}\") # Calls the function for a triangle and prints the result.\n",
        "print(f\"Area of square with side 4: {calculate_area('square', side=4)}\") # Calls the function for an unsupported shape (\"square\") and prints the result (will print an error message and None).\n",
        "print(f\"Area of circle without radius: {calculate_area('circle')}\") # Calls the function for a circle without providing the required 'radius' and prints the result (will print an error message and None)."
      ],
      "execution_count": 3,
      "outputs": [
        {
          "output_type": "stream",
          "name": "stdout",
          "text": [
            "Area of circle with radius 5: 78.53981633974483\n",
            "Area of rectangle with length 4 and width 6: 24\n",
            "Area of triangle with base 3 and height 7: 10.5\n",
            "Error: Shape 'square' is not supported.\n",
            "Area of square with side 4: None\n",
            "Error: Radius is required for a circle.\n",
            "Area of circle without radius: None\n"
          ]
        }
      ]
    },
    {
      "cell_type": "code",
      "metadata": {
        "colab": {
          "base_uri": "https://localhost:8080/"
        },
        "id": "88d347b8",
        "outputId": "155a203d-3c15-43c3-e599-567670f29c32"
      },
      "source": [
        "#Task5\n",
        "#Python code to calculate the sum of even numbers and sum of odd numbers from a list\n",
        "# Get input from the user\n",
        "input_list_str = input(\"Enter a list of numbers separated by spaces: \")\n",
        "\n",
        "# Convert the input string to a list of integers\n",
        "try:\n",
        "  l = [int(x) for x in input_list_str.split()]\n",
        "\n",
        "  # Initialize sums\n",
        "  sum_even = 0\n",
        "  sum_odd = 0\n",
        "\n",
        "  # Iterate through the list and sum even and odd numbers\n",
        "  for number in l:\n",
        "    if number % 2 == 0:\n",
        "      sum_even += number\n",
        "    else:\n",
        "      sum_odd += number\n",
        "\n",
        "  # Print the results\n",
        "  print(f\"Sum of even numbers: {sum_even}\")\n",
        "  print(f\"Sum of odd numbers: {sum_odd}\")\n",
        "\n",
        "except ValueError:\n",
        "  print(\"Invalid input. Please enter numbers separated by spaces.\")"
      ],
      "execution_count": 6,
      "outputs": [
        {
          "output_type": "stream",
          "name": "stdout",
          "text": [
            "Enter a list of numbers separated by spaces: 1 2 3 4 5 6 7 8 9\n",
            "Sum of even numbers: 20\n",
            "Sum of odd numbers: 25\n"
          ]
        }
      ]
    },
    {
      "cell_type": "code",
      "metadata": {
        "colab": {
          "base_uri": "https://localhost:8080/"
        },
        "id": "e930c127",
        "outputId": "581f042c-5da1-49cf-bdc8-751c677c89c1"
      },
      "source": [
        "#Task1\n",
        "#function that reads a CSV file and calculates mean, min, max.\n",
        "import pandas as pd\n",
        "\n",
        "def analyze_csv(file_url):\n",
        "    \"\"\"\n",
        "    Reads a CSV/Excel file from a URL and calculates mean, min, and max\n",
        "    for all numeric columns automatically.\n",
        "    \"\"\"\n",
        "    # Try reading as CSV; if it fails, try as Excel\n",
        "    try:\n",
        "        df = pd.read_csv(file_url)\n",
        "    except Exception:\n",
        "        df = pd.read_excel(file_url)\n",
        "\n",
        "    # Confirm successful load\n",
        "    print(\"✅ CSV File Loaded Successfully!\")\n",
        "    print(df.head(), \"\\n\")\n",
        "\n",
        "    # Select only numeric columns\n",
        "    numeric_cols = df.select_dtypes(include='number').columns\n",
        "\n",
        "    if len(numeric_cols) == 0:\n",
        "        print(\"❌ No numeric columns found in the file.\")\n",
        "        return None\n",
        "\n",
        "    # Calculate statistics for each numeric column\n",
        "    for col in numeric_cols:\n",
        "        mean_val = df[col].mean()\n",
        "        min_val = df[col].min()\n",
        "        max_val = df[col].max()\n",
        "\n",
        "        # Display results\n",
        "        print(f\"📊 Statistics for '{col}':\")\n",
        "        print(f\"Mean: {mean_val}\")\n",
        "        print(f\"Minimum: {min_val}\")\n",
        "        print(f\"Maximum: {max_val}\\n\")\n",
        "\n",
        "    # Create and return summary dictionary\n",
        "    result = {\n",
        "        col: {\"mean\": df[col].mean(), \"min\": df[col].min(), \"max\": df[col].max()}\n",
        "        for col in numeric_cols\n",
        "    }\n",
        "    print(result)\n",
        "    return result\n",
        "\n",
        "\n",
        "# --- Example usage ---\n",
        "# 👇 Just replace this with your own link (can be a CSV or Excel file)\n",
        "file_url = \"/content/drive/MyDrive/AIAP/Lab_2/Task1_Excel.xlsx\"\n",
        "\n",
        "# Call the function (no need to provide column name)\n",
        "result = analyze_csv(file_url)\n"
      ],
      "execution_count": 15,
      "outputs": [
        {
          "output_type": "stream",
          "name": "stdout",
          "text": [
            "✅ CSV File Loaded Successfully!\n",
            "  Student Name  Marks Obtained\n",
            "0        Alice              89\n",
            "1          Bob              43\n",
            "2      charlie              68\n",
            "3        David              92\n",
            "4         Emma              58 \n",
            "\n",
            "📊 Statistics for 'Marks Obtained':\n",
            "Mean: 70.0\n",
            "Minimum: 43\n",
            "Maximum: 92\n",
            "\n",
            "{'Marks Obtained': {'mean': np.float64(70.0), 'min': 43, 'max': 92}}\n"
          ]
        }
      ]
    }
  ]
}